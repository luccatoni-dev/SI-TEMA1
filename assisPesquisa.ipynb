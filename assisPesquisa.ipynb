{
  "nbformat": 4,
  "nbformat_minor": 0,
  "metadata": {
    "colab": {
      "provenance": [],
      "toc_visible": true,
      "authorship_tag": "ABX9TyMCHgMIPMCREFd0GF/OTQ5v",
      "include_colab_link": true
    },
    "kernelspec": {
      "name": "python3",
      "display_name": "Python 3"
    },
    "language_info": {
      "name": "python"
    }
  },
  "cells": [
    {
      "cell_type": "markdown",
      "metadata": {
        "id": "view-in-github",
        "colab_type": "text"
      },
      "source": [
        "<a href=\"https://colab.research.google.com/github/luccatoni-dev/SI-TEMA1/blob/main/assisPesquisa.ipynb\" target=\"_parent\"><img src=\"https://colab.research.google.com/assets/colab-badge.svg\" alt=\"Open In Colab\"/></a>"
      ]
    },
    {
      "cell_type": "code",
      "execution_count": 1,
      "metadata": {
        "colab": {
          "base_uri": "https://localhost:8080/"
        },
        "id": "12cpqoCnCPuf",
        "outputId": "83f5a491-5afe-4356-a82b-9516a1467947"
      },
      "outputs": [
        {
          "output_type": "stream",
          "name": "stdout",
          "text": [
            "Tópicos correlatos e sinônimos para o termo de pesquisa 'Bitcoin':\n",
            "1. https://g.co/gfd\n",
            "2. https://bitcoin.org/\n",
            "3. https://finance.yahoo.com/news/heres-much-100-bitcoin-could-185414994.html\n",
            "4. https://bitcoinist.com/bitcoin-to-enter-a-parabolic-growth-phase-shortly/\n",
            "5. https://www.foxbusiness.com/markets/bitcoin-etf-options-trading\n",
            "6. https://www.bitcoin.com/\n",
            "7. https://www.bitcoin.com/get-started/\n",
            "8. https://buy.bitcoin.com/\n"
          ]
        }
      ],
      "source": [
        "# Instala a biblioteca googlesearch-python\n",
        "#!pip install google\n",
        "\n",
        "# Importa a classe search da biblioteca googlesearch\n",
        "from googlesearch import search\n",
        "\n",
        "# Termo de pesquisa\n",
        "termo_pesquisa = \"Bitcoin\"\n",
        "\n",
        "# Realiza a pesquisa no Google e armazena os resultados\n",
        "resultados = search(termo_pesquisa, num=3, stop=8, pause=2)\n",
        "\n",
        "# Exibe os tópicos correlatos e sinônimos encontrados nos resultados da pesquisa\n",
        "print(\"Tópicos correlatos e sinônimos para o termo de pesquisa '\" + termo_pesquisa + \"':\")\n",
        "for idx, resultado in enumerate(resultados):\n",
        "    print(f\"{idx + 1}. {resultado}\")"
      ]
    }
  ]
}